{
 "cells": [
  {
   "cell_type": "markdown",
   "metadata": {},
   "source": [
    "# Guidelines\n",
    "\n",
    "  - Two Questions are given in this exam ,you have to implement both the questions.\n",
    "  - No internal choice is provided.\n",
    "  - You can Implement these questions in Python.\n",
    "  - Time Duration: 1 hour.\n",
    "\n",
    "### Task 1 : Implement the Naive Bayes classifier on the IRIS dataset after splitting the dataset into training and test dataset. You have to print the following evaluation matrices after implementing decision tree:\n",
    "\n",
    "You have to Import the IRIS dataset and calculate following evaluation matrices:\n",
    "- Confusion Matrix\n",
    "- Accuracy\n",
    "- Recall\n",
    "- Precision\n",
    "- F1- Score\n",
    "\n",
    "### Task 2 : Implement the Support Vector Machine (SVM) classifier on the IRIS dataset after splitting the dataset into training and test dataset. You have to print the following evaluation matrices after implementing decision tree:\n",
    "\n",
    "You have to Import the IRIS dataset and calculate following evaluation matrices:\n",
    "- Confusion Matrix\n",
    "- Accuracy\n",
    "- Recall\n",
    "- Precision\n",
    "- F1- Score"
   ]
  },
  {
   "cell_type": "code",
   "execution_count": null,
   "metadata": {},
   "outputs": [],
   "source": []
  }
 ],
 "metadata": {
  "kernelspec": {
   "display_name": "Python 3",
   "language": "python",
   "name": "python3"
  },
  "language_info": {
   "codemirror_mode": {
    "name": "ipython",
    "version": 3
   },
   "file_extension": ".py",
   "mimetype": "text/x-python",
   "name": "python",
   "nbconvert_exporter": "python",
   "pygments_lexer": "ipython3",
   "version": "3.6.6"
  }
 },
 "nbformat": 4,
 "nbformat_minor": 2
}
